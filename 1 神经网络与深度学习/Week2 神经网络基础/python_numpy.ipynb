{
 "cells": [
  {
   "cell_type": "code",
   "execution_count": 2,
   "metadata": {},
   "outputs": [
    {
     "name": "stdout",
     "output_type": "stream",
     "text": [
      "[-0.07069467 -0.91578993 -1.7569514   0.42207782  0.46283739]\n"
     ]
    }
   ],
   "source": [
    "import numpy as np\n",
    "a = np.random.randn(5) # 这样创建的是rank 1,\n",
    "print(a)"
   ]
  },
  {
   "cell_type": "code",
   "execution_count": 6,
   "metadata": {},
   "outputs": [
    {
     "name": "stdout",
     "output_type": "stream",
     "text": [
      "(5,)\n"
     ]
    }
   ],
   "source": [
    "print(a.shape) # 这是rank 1 array, "
   ]
  },
  {
   "cell_type": "code",
   "execution_count": 7,
   "metadata": {},
   "outputs": [
    {
     "name": "stdout",
     "output_type": "stream",
     "text": [
      "[-0.07069467 -0.91578993 -1.7569514   0.42207782  0.46283739]\n"
     ]
    }
   ],
   "source": [
    "print(a.T)"
   ]
  },
  {
   "cell_type": "code",
   "execution_count": 9,
   "metadata": {},
   "outputs": [
    {
     "name": "stdout",
     "output_type": "stream",
     "text": [
      "4.32291527062345\n"
     ]
    }
   ],
   "source": [
    "print(np.dot(a, a.T))"
   ]
  },
  {
   "cell_type": "markdown",
   "metadata": {},
   "source": [
    "尽量不要使用rank 1 的array\n"
   ]
  },
  {
   "cell_type": "code",
   "execution_count": 19,
   "metadata": {},
   "outputs": [
    {
     "name": "stdout",
     "output_type": "stream",
     "text": [
      "[[ 0.42239594]\n",
      " [ 0.20457427]\n",
      " [-0.43394469]\n",
      " [ 2.2108712 ]\n",
      " [-1.12159142]]\n"
     ]
    }
   ],
   "source": [
    "b = np.random.randn(5,1) # 这样创建的是真正的矩阵\n",
    "print(b)"
   ]
  },
  {
   "cell_type": "code",
   "execution_count": 25,
   "metadata": {},
   "outputs": [
    {
     "name": "stdout",
     "output_type": "stream",
     "text": [
      "(5, 1)\n"
     ]
    }
   ],
   "source": [
    "print(b.shape)\n",
    "assert(a.shape == (5,1))"
   ]
  },
  {
   "cell_type": "code",
   "execution_count": 21,
   "metadata": {},
   "outputs": [
    {
     "name": "stdout",
     "output_type": "stream",
     "text": [
      "[[ 0.42239594  0.20457427 -0.43394469  2.2108712  -1.12159142]]\n"
     ]
    }
   ],
   "source": [
    "print(b.T)"
   ]
  },
  {
   "cell_type": "code",
   "execution_count": 22,
   "metadata": {},
   "outputs": [
    {
     "name": "stdout",
     "output_type": "stream",
     "text": [
      "[[ 0.17841833  0.08641134 -0.18329648  0.93386302 -0.47375567]\n",
      " [ 0.08641134  0.04185063 -0.08877392  0.45228736 -0.22944874]\n",
      " [-0.18329648 -0.08877392  0.18830799 -0.95939581  0.48670864]\n",
      " [ 0.93386302  0.45228736 -0.95939581  4.88795146 -2.47969417]\n",
      " [-0.47375567 -0.22944874  0.48670864 -2.47969417  1.25796732]]\n"
     ]
    }
   ],
   "source": [
    "print(np.dot(b, b.T))"
   ]
  },
  {
   "cell_type": "code",
   "execution_count": null,
   "metadata": {},
   "outputs": [],
   "source": []
  }
 ],
 "metadata": {
  "kernelspec": {
   "display_name": "Python 3",
   "language": "python",
   "name": "python3"
  },
  "language_info": {
   "codemirror_mode": {
    "name": "ipython",
    "version": 3
   },
   "file_extension": ".py",
   "mimetype": "text/x-python",
   "name": "python",
   "nbconvert_exporter": "python",
   "pygments_lexer": "ipython3",
   "version": "3.6.7"
  }
 },
 "nbformat": 4,
 "nbformat_minor": 2
}
